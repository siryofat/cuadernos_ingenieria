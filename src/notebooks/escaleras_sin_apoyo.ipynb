{
 "cells": [
  {
   "cell_type": "markdown",
   "id": "143ed9d4-b455-4299-81b3-5695741ab751",
   "metadata": {},
   "source": [
    "# Diseño de una escalera usando Anastruct"
   ]
  },
  {
   "cell_type": "code",
   "execution_count": 1,
   "id": "d443262c-27dc-4da3-8b4b-f92808d03f02",
   "metadata": {},
   "outputs": [],
   "source": [
    "import anastruct"
   ]
  }
 ],
 "metadata": {
  "kernelspec": {
   "display_name": "Python 3 (ipykernel)",
   "language": "python",
   "name": "python3"
  },
  "language_info": {
   "codemirror_mode": {
    "name": "ipython",
    "version": 3
   },
   "file_extension": ".py",
   "mimetype": "text/x-python",
   "name": "python",
   "nbconvert_exporter": "python",
   "pygments_lexer": "ipython3",
   "version": "3.10.11"
  }
 },
 "nbformat": 4,
 "nbformat_minor": 5
}
